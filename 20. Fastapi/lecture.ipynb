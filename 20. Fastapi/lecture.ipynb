{
 "cells": [
  {
   "cell_type": "code",
   "execution_count": null,
   "id": "5756ac1f-fd9b-49d8-bc97-48e37d5717f2",
   "metadata": {},
   "outputs": [],
   "source": [
    "FastAPI — это современный, быстрый (high-performance) веб-фреймворк на Python, который \n",
    "позволяет легко и быстро создавать API. Он использует асинхронные функции, чтобы обеспечить\n",
    "высокую производительность, и активно использует Pydantic для работы с \n",
    "данными и валидации. Давайте разберем ключевые концепции, которые вы упомянули:"
   ]
  },
  {
   "cell_type": "code",
   "execution_count": null,
   "id": "690f4a92-b133-43b3-8b56-7c7741cd76bf",
   "metadata": {},
   "outputs": [],
   "source": [
    "1. Path Operations"
   ]
  },
  {
   "cell_type": "code",
   "execution_count": null,
   "id": "e51835a1-988a-458e-a17f-5825d99c4439",
   "metadata": {},
   "outputs": [],
   "source": [
    "Path Operations (или \"операции пути\") — это основные точки входа в ваше приложение, которые \n",
    "соответствуют различным HTTP-методам (GET, POST, PUT, DELETE и т.д.) и путям (routes). В FastAPI \n",
    "каждая операция пути представлена функцией Python,\n",
    "которая ассоциируется с определенным маршрутом и HTTP-методом."
   ]
  },
  {
   "cell_type": "code",
   "execution_count": null,
   "id": "7ee03144-e738-4092-8cd6-ea73db1e6434",
   "metadata": {},
   "outputs": [],
   "source": [
    "from fastapi import FastAPI\n",
    "app ´FastAPI()\n",
    "\n",
    "@app.get(\"/items/{item_id}\")\n",
    "async def read_item(item_id: int):\n",
    "    return {\"item_id\": item_id}"
   ]
  },
  {
   "cell_type": "code",
   "execution_count": null,
   "id": "3a5115fe-c9ed-4bfe-a84c-beb73faa7249",
   "metadata": {},
   "outputs": [],
   "source": [
    "2. Request <-> Response, Models\n",
    "FastAPI использует Pydantic для управления данными и их валидации, что позволяет легко определять \n",
    "схемы данных (модели) для запросов и ответов.\n",
    "Пример модели:\n"
   ]
  },
  {
   "cell_type": "code",
   "execution_count": null,
   "id": "23cc01bb-12f0-4ea3-8c47-fb549c962cda",
   "metadata": {},
   "outputs": [],
   "source": [
    "from pydantic import BaseModel\n",
    "\n",
    "class Item(BaseModel):\n",
    "    name: str\n",
    "    description: str | None = None\n",
    "    price: float\n",
    "    tax: float | None = None\n",
    "\n",
    "@app.post(\"/items/\")\n",
    "async def create_item(item: Item):\n",
    "    return item"
   ]
  },
  {
   "cell_type": "code",
   "execution_count": null,
   "id": "4f3bcab2-0698-4a4b-8fc2-ac673d4fa7b9",
   "metadata": {},
   "outputs": [],
   "source": [
    "3. Pydantic\n",
    "Pydantic — это библиотека для управления и валидации данных в Python. Она используется в FastAPI \n",
    "для создания моделей данных, которые затем используются для валидации и сериализации данных.\n",
    "Основные возможности Pydantic:\n",
    "•\tВалидация входящих данных.\n",
    "•\tАвтоматическое преобразование данных.\n",
    "•\tДокументирование моделей.\n",
    "•\tПоддержка аннотаций типов Python для указания структуры данных.\n",
    "Пример модели с валидацией:\n"
   ]
  },
  {
   "cell_type": "code",
   "execution_count": null,
   "id": "5f8c48d8-8f22-4686-a293-d061e0c3d1ad",
   "metadata": {},
   "outputs": [],
   "source": [
    "from pydantic import BaseModel, Field\n",
    "\n",
    "class User(BaseModel):\n",
    "    username: str = Field(..., min_length=3, max_length=50)\n",
    "    email: str\n",
    "    age: int|None = None"
   ]
  },
  {
   "cell_type": "code",
   "execution_count": null,
   "id": "bbf5bb12-4a5e-49b5-9cdc-a83d1077fb42",
   "metadata": {},
   "outputs": [],
   "source": [
    "4. Dependencies\n",
    "Зависимости (Dependencies) в FastAPI позволяют модульно разделять и управлять логикой, \n",
    "которая может быть повторно использована в различных операциях пути. Это может включать в \n",
    "себя валидацию данных, проверку аутентификации, подключение к базе данных и многое другое.\n",
    "Пример использования зависимости:\n"
   ]
  },
  {
   "cell_type": "code",
   "execution_count": null,
   "id": "43c1f0c1-631d-4f79-a633-b3b79d8f15e1",
   "metadata": {},
   "outputs": [],
   "source": [
    "from fastapi import Depends, FastAPI\n",
    "app = FastAPI()\n",
    "def get_query(q: str | None = None):\n",
    "    return q\n",
    "\n",
    "@app.get(\"/items/\")\n",
    "async def read_items(q: str = Depends(get_query)):\n",
    "    return {\"q\": q}"
   ]
  },
  {
   "cell_type": "code",
   "execution_count": null,
   "id": "aec215e9-fe70-4593-bc7d-75fa1a221d3d",
   "metadata": {},
   "outputs": [],
   "source": [
    "5. Развертывание\n",
    "FastAPI поддерживает различные методы развертывания. Один из самых распространенных способов \n",
    "развертывания — это использование Uvicorn, ASGI-сервера, который хорошо работает с FastAPI.\n",
    "Простой пример развертывания через Uvicorn:\n"
   ]
  },
  {
   "cell_type": "code",
   "execution_count": null,
   "id": "cbed9da9-4c02-42f5-9abe-994aa975db8a",
   "metadata": {},
   "outputs": [],
   "source": [
    "unicorn main:app --reload"
   ]
  },
  {
   "cell_type": "code",
   "execution_count": null,
   "id": "8023cecd-017e-4256-bc70-cd1c718f8cb9",
   "metadata": {},
   "outputs": [],
   "source": [
    "Подведение итогов:\n",
    "•\tPath Operations: Это функции, связанные с маршрутами и HTTP-методами.\n",
    "•\tRequest<->Response, Models: Использование Pydantic для валидации и управления данными через модели.\n",
    "•\tPydantic: Основной инструмент для работы с данными, обеспечивает валидацию и сериализацию.\n",
    "•\tDependencies: Механизм для управления повторно используемой логикой.\n",
    "•\tРазвертывание: Обычно осуществляется с использованием Uvicorn, Gunicorn и прокси-сервера.\n",
    "FastAPI — мощный и гибкий инструмент для создания API, и с его помощью можно легко создавать масштабируемые и безопасные веб-приложения.\n"
   ]
  }
 ],
 "metadata": {
  "kernelspec": {
   "display_name": "Python 3 (ipykernel)",
   "language": "python",
   "name": "python3"
  },
  "language_info": {
   "codemirror_mode": {
    "name": "ipython",
    "version": 3
   },
   "file_extension": ".py",
   "mimetype": "text/x-python",
   "name": "python",
   "nbconvert_exporter": "python",
   "pygments_lexer": "ipython3",
   "version": "3.11.7"
  }
 },
 "nbformat": 4,
 "nbformat_minor": 5
}
